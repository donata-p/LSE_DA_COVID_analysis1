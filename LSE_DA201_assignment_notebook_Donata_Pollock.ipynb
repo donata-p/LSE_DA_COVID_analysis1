{
 "cells": [
  {
   "cell_type": "markdown",
   "id": "84f07f93",
   "metadata": {},
   "source": [
    "### LSE Data Analytics Online Career Accelerator\n",
    "\n",
    "# DA201: Data Analytics using Python"
   ]
  },
  {
   "cell_type": "markdown",
   "id": "3917c645",
   "metadata": {},
   "source": [
    "######################## Assignment: COVID-19 data ############################"
   ]
  },
  {
   "cell_type": "markdown",
   "id": "c1f155d2-e4d0-423d-aa87-b8240fcadbfe",
   "metadata": {},
   "source": [
    "######################## Assignment activity 1 - environment preparation ########################"
   ]
  },
  {
   "cell_type": "code",
   "execution_count": null,
   "id": "b10f4193-c2a2-4fdc-95b3-c04385631ebe",
   "metadata": {},
   "outputs": [],
   "source": [
    "# Import the required libraries and set the plotting options\n",
    "import numpy as np\n",
    "import pandas as pd\n",
    "import seaborn as sns\n",
    "import matplotlib.pyplot as plt\n",
    "\n",
    "%matplotlib inline\n",
    "\n",
    "pd.options.display.max_colwidth = 200\n",
    "\n",
    "sns.set(rc = {'figure.figsize':(15,10)})"
   ]
  },
  {
   "cell_type": "markdown",
   "id": "a261c768-dff6-425b-b2e0-aa5b47e5d2fa",
   "metadata": {},
   "source": [
    "### Required: Report submission:\n",
    "Insert URL (to your public GitHub repository) and a screenshot - double click cell to edit\n",
    "- [My Github Repo: Donata Pollock](https://github.com/donata-p/LSE_DA_COVID_analysis1)\n",
    "- Screenshot demo (replace with your own).\n",
    "\n",
    "!['My Github screenshot](https://github.com/donata-p/LSE_DA_COVID_analysis1/blob/main/9518FF27-3D09-40B4-818B-F13900BDDF44.jpeg?raw=true)\n",
    "(Note that this only works if your repo is set to **public**. Alternatively you need to refer to a local image and include this image in your submission.)"
   ]
  },
  {
   "cell_type": "markdown",
   "id": "94cfd822",
   "metadata": {},
   "source": [
    "######################## Assignment activity 2 ########################"
   ]
  },
  {
   "cell_type": "code",
   "execution_count": null,
   "id": "c18199fa-8e5e-42e6-9a19-b8766730a16a",
   "metadata": {
    "scrolled": false
   },
   "outputs": [],
   "source": [
    "# Load the COVID-19 cases and vaccine data sets as cov and vac respectively\n",
    "cases = pd.read_csv('covid_19_uk_cases.csv')\n",
    "vaccinated = pd.read_csv('covid_19_uk_vaccinated.csv')\n",
    "tweets = pd.read_csv('tweets.csv')"
   ]
  },
  {
   "cell_type": "code",
   "execution_count": null,
   "id": "99a8bf2a",
   "metadata": {
    "scrolled": true
   },
   "outputs": [],
   "source": [
    "# View the info()\n",
    "cases.info()\n",
    "vaccinated.info()\n",
    "tweets.info()"
   ]
  },
  {
   "cell_type": "code",
   "execution_count": null,
   "id": "bcd43318-2f54-4fd6-a4f8-b392c2430284",
   "metadata": {
    "scrolled": false
   },
   "outputs": [],
   "source": [
    "# View the column names\n",
    "print(cases.columns)\n",
    "print(vaccinated.columns)\n",
    "print(tweets.columns)"
   ]
  },
  {
   "cell_type": "code",
   "execution_count": null,
   "id": "d89a23ca",
   "metadata": {
    "scrolled": true
   },
   "outputs": [],
   "source": [
    "# Descriptive Statistics for cases\n",
    "cases.describe()"
   ]
  },
  {
   "cell_type": "code",
   "execution_count": null,
   "id": "04157851",
   "metadata": {},
   "outputs": [],
   "source": [
    "# Descriptive Statistics for vaccinated\n",
    "vaccinated.describe()"
   ]
  },
  {
   "cell_type": "code",
   "execution_count": null,
   "id": "9f67718a",
   "metadata": {},
   "outputs": [],
   "source": [
    "# Descriptive Statistics for twets\n",
    "tweets.describe()"
   ]
  },
  {
   "cell_type": "code",
   "execution_count": null,
   "id": "34cb22b4",
   "metadata": {
    "scrolled": true
   },
   "outputs": [],
   "source": [
    "# Data imported correctly with shape()\n",
    "print(cases.shape)\n",
    "cases.head()"
   ]
  },
  {
   "cell_type": "code",
   "execution_count": null,
   "id": "1a25d448",
   "metadata": {},
   "outputs": [],
   "source": [
    "cases.tail()"
   ]
  },
  {
   "cell_type": "code",
   "execution_count": null,
   "id": "88e53613",
   "metadata": {},
   "outputs": [],
   "source": [
    "# Data imported correctly with shape()\n",
    "print(vaccinated.shape)\n",
    "vaccinated.head()"
   ]
  },
  {
   "cell_type": "code",
   "execution_count": null,
   "id": "89796c6c",
   "metadata": {},
   "outputs": [],
   "source": [
    "vaccinated.tail()"
   ]
  },
  {
   "cell_type": "code",
   "execution_count": null,
   "id": "d97891d1",
   "metadata": {},
   "outputs": [],
   "source": [
    "# Data imported correctly with shape()\n",
    "print(tweets.shape)\n",
    "tweets.head()"
   ]
  },
  {
   "cell_type": "code",
   "execution_count": null,
   "id": "4f5cc071",
   "metadata": {},
   "outputs": [],
   "source": [
    "tweets.tail()"
   ]
  },
  {
   "cell_type": "code",
   "execution_count": null,
   "id": "5ccb0333",
   "metadata": {
    "scrolled": true
   },
   "outputs": [],
   "source": [
    "# Determine the data types\n",
    "print(cases.dtypes)\n",
    "print(vaccinated.dtypes)\n",
    "print(tweets.dtypes)"
   ]
  },
  {
   "cell_type": "markdown",
   "id": "2183a8cf",
   "metadata": {},
   "source": [
    "########### Missing data"
   ]
  },
  {
   "cell_type": "code",
   "execution_count": null,
   "id": "61ad913c",
   "metadata": {},
   "outputs": [],
   "source": [
    "# Checking cases DataFrame for missing values\n",
    "cases_na = cases[cases.isna().any(axis = 1)]\n",
    "print(cases_na.shape)\n",
    "\n",
    "cases_na"
   ]
  },
  {
   "cell_type": "code",
   "execution_count": null,
   "id": "d3ce0cd8",
   "metadata": {},
   "outputs": [],
   "source": [
    "# Checking vaccinated DataFrame for missing values\n",
    "vaccinated_na = vaccinated[vaccinated.isna().any(axis = 1)]\n",
    "print(vaccinated_na.shape)\n",
    "\n",
    "vaccinated_na "
   ]
  },
  {
   "cell_type": "code",
   "execution_count": null,
   "id": "1a789061",
   "metadata": {},
   "outputs": [],
   "source": [
    "# Checking tweets DataFrame for missing values\n",
    "tweets_na = tweets[tweets.isna().any(axis = 1)]\n",
    "print(tweets_na.shape)\n",
    "\n",
    "tweets_na"
   ]
  },
  {
   "cell_type": "markdown",
   "id": "1777e952",
   "metadata": {},
   "source": [
    "In cases dataframe missing values are 2.\n",
    "In vaccinated dataframe missing values are 0.\n",
    "Tweets missing 21 values."
   ]
  },
  {
   "cell_type": "markdown",
   "id": "743a6f85",
   "metadata": {},
   "source": [
    "########### Filter/subset data"
   ]
  },
  {
   "cell_type": "markdown",
   "id": "512404ce",
   "metadata": {},
   "source": [
    "I shall filter out 2 rows with missing values (identified in Missing Data script) in cases dataframe."
   ]
  },
  {
   "cell_type": "code",
   "execution_count": null,
   "id": "18ec5c77",
   "metadata": {},
   "outputs": [],
   "source": [
    "# can drop missing values\n",
    "# cases.dropna()"
   ]
  },
  {
   "cell_type": "markdown",
   "id": "95768fa1",
   "metadata": {},
   "source": [
    "Following performing filtering on cases dataframe above left with 7582 rows × 12 columns"
   ]
  },
  {
   "cell_type": "code",
   "execution_count": null,
   "id": "3582782a",
   "metadata": {},
   "outputs": [],
   "source": [
    "# Filter series on Gibraltar\n",
    "Gibcases = cases[cases['Province/State'] == 'Gibraltar'] \n",
    "\n",
    "print(Gibcases.shape)"
   ]
  },
  {
   "cell_type": "code",
   "execution_count": null,
   "id": "4bc35f63",
   "metadata": {},
   "outputs": [],
   "source": [
    "# print the Gibcases DataFrame\n",
    "pd.set_option('display.max_rows', None)\n",
    "\n",
    "Gibcases "
   ]
  },
  {
   "cell_type": "markdown",
   "id": "9e01eaab",
   "metadata": {},
   "source": [
    "########### Subset the Gibraltar DataFrame that you have created consisting of the following columns: \n",
    "Deaths, Cases, Recovered and Hospitalised."
   ]
  },
  {
   "cell_type": "code",
   "execution_count": null,
   "id": "4b5d8191",
   "metadata": {
    "scrolled": true
   },
   "outputs": [],
   "source": [
    "# Select Deaths, Cases, Recovered and Hospitalised columns\n",
    "Gibcases = pd.read_csv('covid_19_uk_cases.csv', \n",
    "                            usecols=['Deaths', 'Cases', 'Recovered', 'Hospitalised'])"
   ]
  },
  {
   "cell_type": "code",
   "execution_count": null,
   "id": "c22f7438",
   "metadata": {},
   "outputs": [],
   "source": [
    "# Run the describe() function to generate descriptive statistics on Gibcases\n",
    "Gibcases.describe()"
   ]
  },
  {
   "cell_type": "markdown",
   "id": "79ccb3f1",
   "metadata": {},
   "source": [
    "Determining the vaccination status in Gibraltar by identifying the number of people who:\n",
    "- are vaccinated\n",
    "- have received the first dose\n",
    "- have received the second dose."
   ]
  },
  {
   "cell_type": "code",
   "execution_count": null,
   "id": "1082bc58-3249-421c-a807-716349042385",
   "metadata": {},
   "outputs": [],
   "source": [
    "# Filter the data for the region Gibraltar on vaccinated\n",
    "Gibcases_vaccinated = vaccinated[vaccinated['Province/State'] == 'Gibraltar']\n",
    "Gibcases_vaccinated = Gibcases_vaccinated[['Date', 'Vaccinated', 'First Dose', 'Second Dose']]\n",
    "\n",
    "print(Gibcases_vaccinated.shape)"
   ]
  },
  {
   "cell_type": "code",
   "execution_count": null,
   "id": "f8584e15-0a30-4d79-8087-63085620c518",
   "metadata": {},
   "outputs": [],
   "source": [
    "# Descriptive Statistics f\n",
    "Gibcases_vaccinated.describe()"
   ]
  },
  {
   "cell_type": "markdown",
   "id": "1ad99b94",
   "metadata": {},
   "source": [
    "######################## Assignment activity 3 ########################"
   ]
  },
  {
   "cell_type": "markdown",
   "id": "cf12a0a4",
   "metadata": {},
   "source": [
    "Identify the area that has the greatest number of people who have received a first dose but not a second dose."
   ]
  },
  {
   "cell_type": "code",
   "execution_count": null,
   "id": "47c49913-e413-48ca-b559-12ea4092f70e",
   "metadata": {},
   "outputs": [],
   "source": [
    "# Join the DataFrames as covid where you merge cov and vac\n",
    "# Use the left join to merge the two DataFrames.\n",
    "covid = pd.merge(cases, vaccinated,\n",
    "                                    on = ['Lat', 'Long', 'Date'], how='left')\n",
    "# View the new DataFrame\n",
    "covid.head()"
   ]
  },
  {
   "cell_type": "code",
   "execution_count": null,
   "id": "58a2d0fa-5af5-4897-ac2c-8fb4d3120377",
   "metadata": {},
   "outputs": [],
   "source": [
    "# Explore the new DataFrame\n",
    "print(covid.shape)\n",
    "#Check for missing values\n",
    "print(covid[covid.isna().any(axis = 1)].shape)"
   ]
  },
  {
   "cell_type": "code",
   "execution_count": null,
   "id": "f694c580-59cb-4511-b562-e6888fdcce04",
   "metadata": {},
   "outputs": [],
   "source": [
    "# Fix the date column data type. currently it's object.\n",
    "import datetime\n",
    "from datetime import datetime, date\n",
    "# Converting datatype of Date column to DateTime\n",
    "covid['Date'] = pd.to_datetime(covid['Date'])\n",
    "\n",
    "# Viewing dtypes\n",
    "print(covid.dtypes)"
   ]
  },
  {
   "cell_type": "code",
   "execution_count": null,
   "id": "ae0d972e-d5f8-4141-a046-9e55041382e8",
   "metadata": {},
   "outputs": [],
   "source": [
    "# drop DUPLICATED columns \n",
    "covid = covid.drop(['Province/State_y', \n",
    "                    'Country/Region_y', \n",
    "                    'ISO 3166-1 Alpha 3-Codes_y', \n",
    "                    'Sub-region Name_y', \n",
    "                    'Intermediate Region Code_y'], axis = 1)\n",
    "covid.head()"
   ]
  },
  {
   "cell_type": "code",
   "execution_count": null,
   "id": "e38d799e",
   "metadata": {},
   "outputs": [],
   "source": [
    "# clean up column names by renaming\n",
    "covid = covid\\\n",
    ".rename(columns={'Province/State_x':'Province/State',\n",
    "                 'Country/Region_x':'Country/Region',\n",
    "                 'ISO 3166-1 Alpha 3-Codes_x':'ISO 3166-1 Alpha 3-Codes', \n",
    "                 'Sub-region Name_x':'Sub-region Name',\n",
    "                 'Intermediate Region Code_x':'Intermediate Region Code'})\n",
    "\n",
    "covid.head()"
   ]
  },
  {
   "cell_type": "code",
   "execution_count": null,
   "id": "e65a3280",
   "metadata": {},
   "outputs": [],
   "source": [
    "# Groupby and calculate difference between 1st and 2nd dose by Province\n",
    "difference = covid.groupby('Province/State').agg({'First Dose': 'sum', 'Second Dose': 'sum'})\n",
    "difference['Outstanding Dose'] = difference['First Dose'] - difference['Second Dose']\n",
    "difference"
   ]
  },
  {
   "cell_type": "code",
   "execution_count": null,
   "id": "c3c10270",
   "metadata": {},
   "outputs": [],
   "source": [
    "# the number of cases across the UK by adding both doses together\n",
    "print('Total 1st dose in GBR:', covid['First Dose'].sum())\n",
    "print('Total 2nd dose in GBR:', covid['Second Dose'].sum())\n",
    "\n",
    "Difference = covid['First Dose'].sum() - covid['Second Dose'].sum()\n",
    "print('Difference between 1st and 2nd dose in GBR:', Difference)"
   ]
  },
  {
   "cell_type": "code",
   "execution_count": null,
   "id": "c538759d",
   "metadata": {},
   "outputs": [],
   "source": [
    "# Groupby and calculate the difference between 1st and 2nd dose over time\n",
    "covid['Outstanding Dose'] = covid['First Dose'] - covid['Second Dose']\n",
    "Over_Time = covid.groupby('Date').agg({'Outstanding Dose': 'sum'}).expanding(1).sum() \n",
    "Over_Time"
   ]
  },
  {
   "cell_type": "code",
   "execution_count": null,
   "id": "6d177493",
   "metadata": {},
   "outputs": [],
   "source": [
    "# Plot the difference between 1st and 2nd dose (Outstanding Dose) over time\n",
    "ax = sns.lineplot(y = 'Outstanding Dose', x = 'Date', \\\n",
    "                  data = Over_Time, ci = None)\n",
    "ax.set_xlabel('Date')\n",
    "ax.set_title('Difference between 1st and 2nd dose over time')\n",
    "plt.savefig('Outstanding Dose.png')"
   ]
  },
  {
   "cell_type": "code",
   "execution_count": null,
   "id": "d8f58010",
   "metadata": {},
   "outputs": [],
   "source": [
    "# melt covid data\n",
    "doses = pd.melt(covid,['Province/State','Date'], \n",
    "                   value_vars = ['First Dose','Second Dose','Outstanding Dose'])\n",
    "doses"
   ]
  },
  {
   "cell_type": "code",
   "execution_count": null,
   "id": "e5a1be34",
   "metadata": {},
   "outputs": [],
   "source": [
    "# Plot 'Deaths','Recovered','Hospitalised'\n",
    "sns.set(rc = {'figure.figsize':(15,8)})\n",
    "sns.set_style('whitegrid',\n",
    "                  {'grid.color':'.2','grid.linestyle':':'})\n",
    "\n",
    "sns.lineplot(x = 'Date', y = 'value', data = doses, hue = 'variable', ci = None)\n",
    "plt.title('First Dose, Second Dose, Outstanding Dose across Province/State over time')\n",
    "plt.savefig('First Dose, Second Dose, Outstanding Dose across Province over time.png')"
   ]
  },
  {
   "cell_type": "code",
   "execution_count": null,
   "id": "fffe26e9",
   "metadata": {},
   "outputs": [],
   "source": [
    "Insight: peoplr who received 1st vaccine dose are gettting the 2nd dose as well"
   ]
  },
  {
   "cell_type": "markdown",
   "id": "0478a396",
   "metadata": {},
   "source": [
    "######################## Assignment activity 4 ########################"
   ]
  },
  {
   "cell_type": "code",
   "execution_count": null,
   "id": "18bb2bb0",
   "metadata": {},
   "outputs": [],
   "source": [
    "# 'Difference_per_region' difference between the 1 and 2nd dose\n",
    "difference['Difference_per_region'] = difference['First Dose'] - difference['Second Dose']\n",
    "difference"
   ]
  },
  {
   "cell_type": "code",
   "execution_count": null,
   "id": "dfda3a55",
   "metadata": {},
   "outputs": [],
   "source": [
    "# Percentage of people who received 1st dose but not 2nd\n",
    "difference['First_Percentage'] = (difference['Difference_per_region'] / difference['First Dose'])*100\n",
    "difference.sort_values('First_Percentage', ascending = False).head(30)"
   ]
  },
  {
   "cell_type": "code",
   "execution_count": null,
   "id": "bb639a64",
   "metadata": {
    "scrolled": false
   },
   "outputs": [],
   "source": [
    "# Objective 1\n",
    "# ratio of interest = Eligible*100/first dose; or (first dose - second dose)*100/first dose = first dose only.) \n",
    "difference['Ratio_of_interest'] = 100-(difference['Difference_per_region']/difference['First Dose']*100) \n",
    "difference.sort_values('Ratio_of_interest', ascending = False).head(30)"
   ]
  },
  {
   "cell_type": "code",
   "execution_count": null,
   "id": "6858b31a-dd08-461d-af17-9e0419554ee5",
   "metadata": {},
   "outputs": [],
   "source": [
    "# Sort and display\n",
    "difference.sort_values('First_Percentage', ascending = False).head()"
   ]
  },
  {
   "cell_type": "code",
   "execution_count": null,
   "id": "f88f0114-f7a3-44d1-b8af-15142d36bd61",
   "metadata": {
    "scrolled": false
   },
   "outputs": [],
   "source": [
    "# 1st dose to fully-dosed individuals\n",
    "# reference: https://www.pythoncharts.com/python/stacked-bar-charts\n",
    "plt.figure(figsize = (15,8))\n",
    "sns.set_style('whitegrid',\n",
    "                  {'grid.color':'.2','grid.linestyle':':'})\n",
    "\n",
    "fullydosed_individuals = difference.plot.bar(y = ['Outstanding Dose', 'Second Dose', 'First Dose'])\n",
    "plt.title('1st dose to fully-dosed individuals')\n",
    "plt.ylabel('Pencentage')\n",
    "plt.savefig('first_fully-dosed.png')"
   ]
  },
  {
   "cell_type": "code",
   "execution_count": null,
   "id": "7972c1aa",
   "metadata": {
    "scrolled": true
   },
   "outputs": [],
   "source": [
    "# Objective 2\n",
    "# Covid Deaths\n",
    "covid_deaths = covid.groupby(['Province/State','Date']).agg({'Deaths': 'sum'})\n",
    "\n",
    "print(covid_deaths.tail(20))\n",
    "print(covid_deaths.shape)"
   ]
  },
  {
   "cell_type": "code",
   "execution_count": null,
   "id": "5b939726-f592-4bc7-ad79-b0c2396523d3",
   "metadata": {
    "scrolled": false
   },
   "outputs": [],
   "source": [
    "# Smooth out the data by looking at monthly figures\n",
    "# excluding 'Others' Province/State that is causing the skewed data set\n",
    "sns.set(rc = {'figure.figsize':(15,8)})\n",
    "sns.set_style('whitegrid',\n",
    "                  {'grid.color':'.2','grid.linestyle':':'})\n",
    "\n",
    "covid['Month'] = pd.to_datetime(covid['Date']+pd.offsets.MonthBegin(0))\n",
    "monthly_deaths = covid[covid['Province/State'] != 'Others'].groupby(['Month','Province/State']).agg({\"Deaths\": 'max'}).unstack()\n",
    "\n",
    "monthly_deaths.plot.line()\n",
    "plt.title('Monthly deaths by Province/State')\n",
    "plt.ylabel('Deaths')\n",
    "plt.savefig('monthly figures.png') "
   ]
  },
  {
   "cell_type": "code",
   "execution_count": null,
   "id": "a8449143",
   "metadata": {},
   "outputs": [],
   "source": [
    "# Objective 3\n",
    "Recovered = covid.groupby('Province/State').agg({'Recovered': 'sum'})\n",
    "Recovered.sort_values('Recovered', ascending=False)\n",
    "\n",
    "print(Recovered.head(30))\n",
    "print(Recovered.shape)"
   ]
  },
  {
   "cell_type": "code",
   "execution_count": null,
   "id": "036b7a5b",
   "metadata": {
    "scrolled": false
   },
   "outputs": [],
   "source": [
    "# excluding 'Others' Province/State that is causing the skewed data set\n",
    "sns.set(rc = {'figure.figsize':(15,8)})\n",
    "sns.set_style('whitegrid',\n",
    "                  {'grid.color':'.2','grid.linestyle':':'})\n",
    "\n",
    "covid['Month'] = pd.to_datetime(covid['Date'] + pd.offsets.MonthBegin(0))\n",
    "Recovered = covid[covid['Province/State'] != 'Others'].groupby(['Month','Province/State']).agg({'Recovered': 'max'}).unstack()\n",
    "\n",
    "Recovered.plot.line()\n",
    "plt.title('Monthly Recovered by Province/State')\n",
    "plt.ylabel('Recovered')\n",
    "plt.savefig('Recovered.png') "
   ]
  },
  {
   "cell_type": "code",
   "execution_count": null,
   "id": "f7a40df2",
   "metadata": {},
   "outputs": [],
   "source": [
    "Hospitalised = covid.groupby('Province/State').agg({'Hospitalised': 'sum'})\n",
    "Hospitalised.sort_values('Hospitalised', ascending = False)\n",
    "\n",
    "print(Hospitalised.head(30))\n",
    "print(Hospitalised.shape)"
   ]
  },
  {
   "cell_type": "code",
   "execution_count": null,
   "id": "9e19c502",
   "metadata": {},
   "outputs": [],
   "source": [
    "# excluding 'Others' Province/State that is causing the skewed data set\n",
    "sns.set(rc = {'figure.figsize':(15,8)})\n",
    "sns.set_style('whitegrid',\n",
    "                  {'grid.color':'.2','grid.linestyle':':'})\n",
    "\n",
    "covid['Month'] = pd.to_datetime(covid['Date'] + pd.offsets.MonthBegin(0))\n",
    "Hospitalised = covid[covid['Province/State'] != 'Others'].groupby(['Month','Province/State']).agg({'Hospitalised': 'max'}).unstack()\n",
    "\n",
    "Hospitalised.plot.line()\n",
    "plt.title('Monthly Hospitalised by Province/State')\n",
    "plt.ylabel('Hospitalised')\n",
    "plt.savefig('Hospitalised.png') "
   ]
  },
  {
   "cell_type": "code",
   "execution_count": null,
   "id": "1f87cd72",
   "metadata": {
    "scrolled": true
   },
   "outputs": [],
   "source": [
    "# melt covid data\n",
    "covid_summary = pd.melt(covid,['Province/State','Date'], \n",
    "                   value_vars = ['Deaths','Recovered','Cases','Hospitalised'])\n",
    "covid_summary"
   ]
  },
  {
   "cell_type": "code",
   "execution_count": null,
   "id": "b64a6d41",
   "metadata": {
    "scrolled": true
   },
   "outputs": [],
   "source": [
    "# remove cases because it skews the grapah \n",
    "covid_summary2 = covid_summary[covid_summary.variable != 'Cases']\n",
    "\n",
    "# rename the province column so it can be filtered\n",
    "covid_summary2.rename(columns = {'Province/State':'ProvinceState'}, inplace = True)\n",
    "\n",
    "covid_summary2"
   ]
  },
  {
   "cell_type": "code",
   "execution_count": null,
   "id": "70588680",
   "metadata": {},
   "outputs": [],
   "source": [
    "# Plot 'Deaths','Recovered','Hospitalised'\n",
    "sns.set(rc = {'figure.figsize':(15,8)})\n",
    "sns.set_style('whitegrid',\n",
    "                  {'grid.color':'.2','grid.linestyle':':'})\n",
    "\n",
    "sns.lineplot(x = 'Date', y = 'value', data = covid_summary2, hue = 'variable', ci = None)\n",
    "plt.title('Deaths, Recovered, Hospitalised across ALL Province/State')\n",
    "plt.savefig('Deaths, Recovered, Hospitalised across ALL Province.png')"
   ]
  },
  {
   "cell_type": "code",
   "execution_count": null,
   "id": "96813499",
   "metadata": {},
   "outputs": [],
   "source": [
    "# Plot Cases separately\n",
    "sns.set(rc = {'figure.figsize':(15,8)})\n",
    "sns.set_style('whitegrid',\n",
    "                  {'grid.color':'.2','grid.linestyle':':'})\n",
    "\n",
    "sns.lineplot(x = 'Date', y = 'Cases', data = covid) \\\n",
    ".set_title('Cases across ALL Province/State')\n",
    "plt.savefig('cases.png') "
   ]
  },
  {
   "cell_type": "code",
   "execution_count": null,
   "id": "b99fa11e",
   "metadata": {},
   "outputs": [],
   "source": [
    "# Plot doesn't work because cases skew the grapah\n",
    "fig, ax = plt.subplots()\n",
    "ax = sns.lineplot(x ='Date', y ='Deaths', data = covid)\n",
    "ax1 = sns.lineplot(x ='Date', y ='Recovered', data = covid)\n",
    "ax2 = sns.lineplot(x ='Date', y ='Cases', data =covid)\n",
    "ax3 = sns.lineplot(x ='Date', y ='Hospitalised', data = covid)\n",
    "\n",
    "plt.xlabel('Date', fontsize = 15);\n",
    "plt.ylabel('count', fontsize = 15);\n",
    "plt.title('Deaths,Recovered,Cases,Hospitalised', fontsize = 20)\n",
    "plt.tick_params(axis ='both', which ='major', labelsize = 10)\n",
    "fig.savefig('Deaths, Recovered, Hospitalised across ALL Province2.png')"
   ]
  },
  {
   "cell_type": "markdown",
   "id": "f4a8521a",
   "metadata": {},
   "source": [
    "######################## Assignment activity 5 ########################"
   ]
  },
  {
   "cell_type": "code",
   "execution_count": null,
   "id": "d1e7d4c3-8227-4160-b503-33758f795a24",
   "metadata": {},
   "outputs": [],
   "source": [
    "# Imported the tweet data set in 2.1 tweets = pd.read_csv('tweets.csv')\n",
    "tweets.info()"
   ]
  },
  {
   "cell_type": "code",
   "execution_count": null,
   "id": "a907280f-5bce-4c51-bc5e-f0586bad8b68",
   "metadata": {},
   "outputs": [],
   "source": [
    "# Explored the data: info(), head() in 2.1\n",
    "tweets.head()"
   ]
  },
  {
   "cell_type": "code",
   "execution_count": null,
   "id": "4ebdbaa2",
   "metadata": {},
   "outputs": [],
   "source": [
    "# View the output\n",
    "print(tweets.shape)"
   ]
  },
  {
   "cell_type": "code",
   "execution_count": null,
   "id": "f659ecc8-b884-457f-8c26-e3d5e43bd807",
   "metadata": {},
   "outputs": [],
   "source": [
    "# Explore the structure, count the tweets, get the elements of interest\n",
    "tweets.retweet_count.value_counts()"
   ]
  },
  {
   "cell_type": "code",
   "execution_count": null,
   "id": "c2463e89",
   "metadata": {},
   "outputs": [],
   "source": [
    "tweets.favorite_count.value_counts()"
   ]
  },
  {
   "cell_type": "code",
   "execution_count": null,
   "id": "5fc53faf-5f04-46f8-897a-0bb2c16a0ed7",
   "metadata": {},
   "outputs": [],
   "source": [
    "# Create a DataFrame with the text only\n",
    "# convert the text of the tweets to string datatype\n",
    "tweets['text'] = tweets['text'].astype(str)\n",
    "\n",
    "# using a lambda function, allocate the looped text only to a new DataFrame\n",
    "tweets_text = tweets['text'].apply(lambda x: x if x.strip() != None else None)\n",
    "tweets_text"
   ]
  },
  {
   "cell_type": "code",
   "execution_count": null,
   "id": "1ac24a68",
   "metadata": {},
   "outputs": [],
   "source": [
    "print(tweets_text.shape)"
   ]
  },
  {
   "cell_type": "code",
   "execution_count": null,
   "id": "b65ebfb2-1efd-49f5-823c-6c620909a63d",
   "metadata": {},
   "outputs": [],
   "source": [
    "# a list of values containing #\n",
    "hashtags = []\n",
    "for y in [x.split(' ') for x in tweets_text.values]:\n",
    "    for z in y:\n",
    "        if '#' in z:\n",
    "            hashtags.append(z)\n",
    "hashtags = pd.Series(hashtags).value_counts()"
   ]
  },
  {
   "cell_type": "code",
   "execution_count": null,
   "id": "d6f38e08-f144-4e33-9075-4201204603ad",
   "metadata": {
    "scrolled": true
   },
   "outputs": [],
   "source": [
    "# Filter and sort\n",
    "hashtags.head(30)"
   ]
  },
  {
   "cell_type": "code",
   "execution_count": null,
   "id": "533d8fce",
   "metadata": {},
   "outputs": [],
   "source": [
    "# create a new DataFrame to store the output of tags\n",
    "data = pd.DataFrame(hashtags).reset_index()\n",
    "\n",
    "# label the columns\n",
    "data.columns = ['word', 'word count']\n",
    "\n",
    "# change the count datatype to integer\n",
    "data['word count'] = data['word count'].astype(int)"
   ]
  },
  {
   "cell_type": "code",
   "execution_count": null,
   "id": "f26cbea8",
   "metadata": {},
   "outputs": [],
   "source": [
    "# print the dataframe with top 30 record\n",
    "data.head(30)"
   ]
  },
  {
   "cell_type": "code",
   "execution_count": null,
   "id": "027e1b9d",
   "metadata": {},
   "outputs": [],
   "source": [
    "# Plot\n",
    "plt.figure(figsize=(15,8))\n",
    "plt.title('Most occuring hashtags')\n",
    "ax = sns.barplot(x = 'word count', y = 'word', data = data.loc[(data['word count'] > 50)])\n",
    "plt.savefig('Hastags.png')"
   ]
  },
  {
   "cell_type": "code",
   "execution_count": null,
   "id": "2364028a",
   "metadata": {},
   "outputs": [],
   "source": [
    "# hashtags with words COVID, corona and vaccinated\n",
    "COVID_corona = ['covid', 'corona','vaccinated']\n",
    "covid_hashtags = data[[bool([1 for search in COVID_corona if search in x]) for x in hashtags.index]]\n",
    "covid_hashtags.head(20)"
   ]
  },
  {
   "cell_type": "code",
   "execution_count": null,
   "id": "2c5d8a34",
   "metadata": {},
   "outputs": [],
   "source": [
    "# Plot\n",
    "plt.figure(figsize = (15,8))\n",
    "plt.title('Most occuring COVID, corona, vaccinated hashtags')\n",
    "ax = sns.barplot(x = 'word count', y = 'word', data = covid_hashtags.loc[(covid_hashtags['word count'] > 3)])\n",
    "plt.savefig('COVID_corona_Hastags.png')"
   ]
  },
  {
   "cell_type": "markdown",
   "id": "7f1fc60e",
   "metadata": {},
   "source": [
    "######################## Assignment activity 6 ########################"
   ]
  },
  {
   "cell_type": "code",
   "execution_count": null,
   "id": "b0a64a2f-2417-4dc2-8e2e-c99607b03dc1",
   "metadata": {},
   "outputs": [],
   "source": [
    "# You can copy and paste the relevant code cells from the provided template here.\n",
    "import warnings\n",
    "warnings.filterwarnings('ignore')"
   ]
  },
  {
   "cell_type": "code",
   "execution_count": null,
   "id": "5125d758",
   "metadata": {},
   "outputs": [],
   "source": [
    "# Load and select relevant subset of the data\n",
    "# Make sure to change the relative path to function in your environment\n",
    "ds1 = pd.read_csv('covid_19_uk_cases.csv')\n",
    "ds2 = pd.read_csv('covid_19_uk_vaccinated.csv')\n",
    "\n",
    "sample = ds1[['Province/State','Date','Hospitalised']]"
   ]
  },
  {
   "cell_type": "code",
   "execution_count": null,
   "id": "8ae2d0c9",
   "metadata": {},
   "outputs": [],
   "source": [
    "# Select data for a specific province\n",
    "sample_ci = sample[sample['Province/State'] == 'Channel Islands']\n",
    "# == 'Channel Islands'\n",
    "# == 'Anguilla'                                     \n",
    "# == 'Bermuda'                                     \n",
    "# == 'British Virgin Islands'                       \n",
    "# == 'Cayman Islands'                              \n",
    "# == 'Channel Islands'                              \n",
    "# == 'Falkland Islands (Malvinas)''                 \n",
    "# == 'Gibraltar'                                     \n",
    "# == 'Isle of Man'                                  \n",
    "# == 'Montserrat'                                     \n",
    "# == 'Others'                                          \n",
    "# == 'Saint Helena, Ascension and Tristan da Cunha'   \n",
    "# == 'Turks and Caicos Islands'                      "
   ]
  },
  {
   "cell_type": "code",
   "execution_count": null,
   "id": "4f374ffd",
   "metadata": {},
   "outputs": [],
   "source": [
    "# Exploring and viewing data\n",
    "\n",
    "print(sample_ci.shape)\n",
    "print(sample_ci.columns)\n",
    "print(sample_ci.dtypes)\n",
    "\n",
    "sample_ci.head()"
   ]
  },
  {
   "cell_type": "code",
   "execution_count": null,
   "id": "a5bab86c",
   "metadata": {},
   "outputs": [],
   "source": [
    "# Plot \n",
    "sample_ci.plot(figsize = (12, 4))\n",
    "\n",
    "# Specify the legend and title of the plot.\n",
    "plt.legend(loc = 'best')\n",
    "plt.title('Hospitalisations in Channel Islands')\n",
    "plt.show(block = False);\n",
    "plt.savefig('Hospitalisations in Channel Islands.png')\n",
    "# Check for missing values.\n",
    "sample_ci.isna().sum()"
   ]
  },
  {
   "cell_type": "code",
   "execution_count": null,
   "id": "297a1232",
   "metadata": {},
   "outputs": [],
   "source": [
    "# Define function to plot moving averages\n",
    "def plot_moving_average(series, window, plot_intervals=False, scale = 1.96):\n",
    "    \n",
    "    # Create a rolling window to calculate the rolling mean using the series.rolling function\n",
    "    rolling_mean = series.rolling(window = window).mean()\n",
    "    \n",
    "    # Declare the dimensions for the plot, plot name and plot the data consisting of the rolling mean from above \n",
    "    plt.figure(figsize=(18,4))\n",
    "    plt.title('Moving average\\n window size = {}'.format(window))\n",
    "    plt.plot(rolling_mean, 'g', label='Simple moving average trend')\n",
    "\n",
    "    \n",
    "    # Plot confidence intervals for smoothed values\n",
    "    if plot_intervals:\n",
    "        \n",
    "        # Calculate the mean absolute square \n",
    "        mae = mean_absolute_error(series[window:], rolling_mean[window:])\n",
    "        \n",
    "        # Calculate the standard deviation using numpy's std function\n",
    "        deviation = np.std(series[window:] - rolling_mean[window:])\n",
    "        \n",
    "        # Calculate the upper and lower bounds \n",
    "        lower_bound = rolling_mean - (mae + scale * deviation)\n",
    "        upper_bound = rolling_mean + (mae + scale * deviation)\n",
    "        \n",
    "        # Name and style upper and lower bound lines and labels \n",
    "        plt.plot(upper_bound, 'r--', label = 'Upper bound / Lower bound')\n",
    "        plt.plot(lower_bound, 'r--')\n",
    "    \n",
    "    # Plot the actual values for the entire timeframe\n",
    "    plt.plot(series[window:], label = 'Actual values')\n",
    "    plt.grid(True)"
   ]
  },
  {
   "cell_type": "code",
   "execution_count": null,
   "id": "2ed057ff",
   "metadata": {},
   "outputs": [],
   "source": [
    "# Define function to calculate the mean absolute error\n",
    "def mean_absolute_error(a, b): return abs(b - a)"
   ]
  },
  {
   "cell_type": "code",
   "execution_count": null,
   "id": "7169cb3c",
   "metadata": {},
   "outputs": [],
   "source": [
    "plot_moving_average(sample_ci.Hospitalised, 7, plot_intervals = True)"
   ]
  },
  {
   "cell_type": "code",
   "execution_count": null,
   "id": "cec80748",
   "metadata": {},
   "outputs": [],
   "source": [
    "# 7 days:\n",
    "plot_moving_average(sample_ci.Hospitalised, 7, plot_intervals = True)\n",
    "\n",
    "# 14-days smoothing:\n",
    "plot_moving_average(sample_ci.Hospitalised, 14, plot_intervals = True)\n",
    "\n",
    "# 21-days smoothing:\n",
    "plot_moving_average(sample_ci.Hospitalised, 21, plot_intervals = True)"
   ]
  },
  {
   "cell_type": "markdown",
   "id": "82a062a6",
   "metadata": {},
   "source": [
    "The user defined function takes a series, a window frame, plot_intervals and scale as arugments. It is used to calculate and plot 'Simple moving average' for the column in the dataframe for the window of given number of entries in the date column, in this case days, which are passed as arguments to the functions.\n",
    "The code written above by me calls the function to calculate and plot the 'Simple moving average' for the 'Hospitalised' column in the data frame with 'Channel Islands' data for a window of 7 days. It also establishes the confidence intervals when plot_intervals is set to true."
   ]
  },
  {
   "cell_type": "code",
   "execution_count": null,
   "id": "1f0085d6",
   "metadata": {},
   "outputs": [],
   "source": [
    "# Return the top three days with biggest difference between daily value and rolling 7-day mean\n",
    "s = sample_ci.copy()\n",
    "s_rolling = s['Hospitalised'].rolling(window=7).mean()\n",
    "s['error'] = mean_absolute_error(s['Hospitalised'][7:], s_rolling[7:])\n",
    "s.sort_values('error', ascending = False).head(3)"
   ]
  },
  {
   "cell_type": "code",
   "execution_count": null,
   "id": "46207a2b",
   "metadata": {},
   "outputs": [],
   "source": [
    "# Code explanation\n",
    "# Return the top three days with biggest difference between daily value and rolling 7-day mean\n",
    "\n",
    "s = sample_ci.copy() # create dataset \n",
    "\n",
    "s_rolling = s['Hospitalised'].rolling(window = 7).mean() # create series of rolling mean\n",
    "\n",
    "s['error'] = mean_absolute_error(s['Hospitalised'][7:], s_rolling[7:]) # calculate absolute error for each row,omitting first 7 \n",
    "\n",
    "s.sort_values('error', ascending = False).head(3) # sort. print"
   ]
  },
  {
   "cell_type": "markdown",
   "id": "0f6f17c6",
   "metadata": {},
   "source": [
    "Mean_absolute_error (MAE) calculates difference between daily value and rolling 7 day mean (moving window function of Pandas) on 'Hospitalised' column. Values are assigned to 'error' column are caculated by subtracting actual value ('Hospitalized' column) by calculated value (s_rolling DataFrame). Then sort_values in descending order. Head returns 3 values."
   ]
  },
  {
   "cell_type": "code",
   "execution_count": null,
   "id": "8f917c6d",
   "metadata": {
    "scrolled": true
   },
   "outputs": [],
   "source": [
    "print(s.loc[[2593]])\n",
    "print(s_rolling.loc[[2593]])"
   ]
  },
  {
   "cell_type": "markdown",
   "id": "fc01fa0f",
   "metadata": {},
   "source": [
    "######################## Further exploration ########################"
   ]
  },
  {
   "cell_type": "code",
   "execution_count": null,
   "id": "a424a03d",
   "metadata": {},
   "outputs": [],
   "source": [
    "fig = plt.figure(figsize = (18, 4))\n",
    "\n",
    "ax = sns.boxplot(x = sample_ci['Hospitalised'], whis = 1.5)"
   ]
  },
  {
   "cell_type": "code",
   "execution_count": null,
   "id": "5730c54f",
   "metadata": {},
   "outputs": [],
   "source": [
    "# The columns you want to search for outliers in.\n",
    "cols = ['Hospitalised'] \n",
    "\n",
    "# Calculate quantiles and IQR.\n",
    "# Same as np.percentile but maps (0,1) and not (0,100).\n",
    "Q1 = sample_ci[cols].quantile(0.25) \n",
    "Q3 = sample_ci[cols].quantile(0.75)\n",
    "IQR = Q3 - Q1\n",
    "IQR\n",
    "\n",
    "# Return a Boolean array of the rows with (any) non-outlier column values.\n",
    "condition = ~((sample_ci[cols] < (Q1 - 1.5 * IQR)) | (sample_ci[cols] > (Q3 + 1.5 * IQR))).any(axis=1)\n",
    "\n",
    "# Filter our DataFrame based on condition.\n",
    "sample_ci_non_outlier = sample_ci[condition]\n",
    "sample_ci_non_outlier.shape"
   ]
  },
  {
   "cell_type": "code",
   "execution_count": null,
   "id": "a4d55c9e",
   "metadata": {},
   "outputs": [],
   "source": [
    "# Plot to see if outliers have been removed: \n",
    "# whis=multiplicative factor.\n",
    "fig = plt.subplots(figsize = (18, 4))\n",
    "\n",
    "ax = sns.boxplot(x = sample_ci_non_outlier['Hospitalised'],whis = 1.5)"
   ]
  },
  {
   "cell_type": "markdown",
   "id": "723b455d",
   "metadata": {},
   "source": [
    "Week 6 Questions:\n",
    "\n",
    "Question 1: We have heard of both qualitative and quantitative data from the previous consultant. What are the differences between the two? Should we use only one or both of these types of data and why? How can these be used in business predictions? Could you provide examples of each?\n",
    "\n",
    "Answer 1: Quantitative data refers to any information which can be quantified, measured or counted. Examples in our project include vaccination rates, calculated percentages. Qualitative data is more descriptive and based on language e.g. Twitter posts.\n",
    "\n",
    "Question 2: We have also heard a bit about the need for continuous improvement. Why should this be implemented, it seems like a waste of time. Why can’t we just implement the current project as it stands and move on to other pressing matters?\n",
    "\n",
    "Answer 2: We should always be looking to continally improve our analysis to understand causes.\n",
    "\n",
    "Question 3: As a government, we adhere to all data protection requirements and have good governance in place. We only work with aggregated data and therefore will not expose any personal details. Have we covered everything from a data ethics standpoint? Is there anything else we need to implement from a data ethics perspective?\n",
    "\n",
    "Answer 3: Whilst we are using aggregated data to perform this analysis, the initial data collection would still have some degree of personal infomation."
   ]
  }
 ],
 "metadata": {
  "kernelspec": {
   "display_name": "Python 3 (ipykernel)",
   "language": "python",
   "name": "python3"
  },
  "language_info": {
   "codemirror_mode": {
    "name": "ipython",
    "version": 3
   },
   "file_extension": ".py",
   "mimetype": "text/x-python",
   "name": "python",
   "nbconvert_exporter": "python",
   "pygments_lexer": "ipython3",
   "version": "3.9.7"
  }
 },
 "nbformat": 4,
 "nbformat_minor": 5
}
